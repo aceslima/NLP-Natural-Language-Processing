{
 "cells": [
  {
   "cell_type": "markdown",
   "id": "0eaad3ac",
   "metadata": {},
   "source": [
    "### LightGBM e LSTM para classificação de textos\n",
    "\n",
    "Vamos aplicar o LightGBM e uma rede LSTM para classificação de textos do dataset de avaliações de roupas femininas da Kaggle [Women’s E-Commerce Clothing Reviews Dataset](https://www.kaggle.com/datasets/nicapotato/womens-ecommerce-clothing-reviews)\n",
    "\n",
    "A base possui as seguintes informações:\n",
    "\n",
    "* Clothing ID: ID da revisão.\n",
    "* Age: Idade da cliente.\n",
    "* Title: Título da revisão.\n",
    "* Review Text: Texto da revisão.\n",
    "* Rating: Variável inteira ordinal para a pontuação do produto concedida pelo cliente variando de 1 (pior) a 5 (melhor).\n",
    "* Recommended IND: Variável binária informando se o cliente recomenda o produto, na qual 1 é recomendado, 0 não é recomendado.\n",
    "* Positive Feedback Count: Número de outros clientes que acharam esta avaliação positiva.\n",
    "* Division Name: Divisão do produto.\n",
    "* Department Name: Departamento do produto.\n",
    "* Class Name: Classe do produto.\n",
    "\n",
    "\n",
    "O objetivo é utilizar o texto da revisão (Review Text) para prever a recomendação ou não do produto (Recommended IND). Vou utilizar duas técnicas: LightGBM e LSTM. \n",
    "\n",
    "No primeiro momento vamos conhecer um pouco da base, em seguida construir e comparar os classificadores.\n",
    "\n",
    "---\n",
    "\n",
    "Essa aplicação foi inspirada no seguinte post: \n",
    "[EDA & LSTM Classification on clothing reviews](https://www.kaggle.com/code/wonduk/eda-lstm-classification-on-clothing-reviews)\n",
    "\n",
    "---"
   ]
  },
  {
   "cell_type": "code",
   "execution_count": 1,
   "id": "30f6bdea",
   "metadata": {},
   "outputs": [],
   "source": [
    "import nltk\n",
    "import numpy as np\n",
    "import pandas as pd"
   ]
  },
  {
   "cell_type": "code",
   "execution_count": 2,
   "id": "72b8737b",
   "metadata": {},
   "outputs": [],
   "source": [
    "df = pd.read_csv(\"bases\\\\kaggle-clothing_reviews\\\\Womens Clothing E-Commerce Reviews.csv\", index_col=0)"
   ]
  },
  {
   "cell_type": "code",
   "execution_count": 3,
   "id": "426f10bd",
   "metadata": {},
   "outputs": [
    {
     "data": {
      "text/html": [
       "<div>\n",
       "<style scoped>\n",
       "    .dataframe tbody tr th:only-of-type {\n",
       "        vertical-align: middle;\n",
       "    }\n",
       "\n",
       "    .dataframe tbody tr th {\n",
       "        vertical-align: top;\n",
       "    }\n",
       "\n",
       "    .dataframe thead th {\n",
       "        text-align: right;\n",
       "    }\n",
       "</style>\n",
       "<table border=\"1\" class=\"dataframe\">\n",
       "  <thead>\n",
       "    <tr style=\"text-align: right;\">\n",
       "      <th></th>\n",
       "      <th>Clothing ID</th>\n",
       "      <th>Age</th>\n",
       "      <th>Title</th>\n",
       "      <th>Review Text</th>\n",
       "      <th>Rating</th>\n",
       "      <th>Recommended IND</th>\n",
       "      <th>Positive Feedback Count</th>\n",
       "      <th>Division Name</th>\n",
       "      <th>Department Name</th>\n",
       "      <th>Class Name</th>\n",
       "    </tr>\n",
       "  </thead>\n",
       "  <tbody>\n",
       "    <tr>\n",
       "      <th>0</th>\n",
       "      <td>767</td>\n",
       "      <td>33</td>\n",
       "      <td>NaN</td>\n",
       "      <td>Absolutely wonderful - silky and sexy and comf...</td>\n",
       "      <td>4</td>\n",
       "      <td>1</td>\n",
       "      <td>0</td>\n",
       "      <td>Initmates</td>\n",
       "      <td>Intimate</td>\n",
       "      <td>Intimates</td>\n",
       "    </tr>\n",
       "    <tr>\n",
       "      <th>1</th>\n",
       "      <td>1080</td>\n",
       "      <td>34</td>\n",
       "      <td>NaN</td>\n",
       "      <td>Love this dress!  it's sooo pretty.  i happene...</td>\n",
       "      <td>5</td>\n",
       "      <td>1</td>\n",
       "      <td>4</td>\n",
       "      <td>General</td>\n",
       "      <td>Dresses</td>\n",
       "      <td>Dresses</td>\n",
       "    </tr>\n",
       "    <tr>\n",
       "      <th>2</th>\n",
       "      <td>1077</td>\n",
       "      <td>60</td>\n",
       "      <td>Some major design flaws</td>\n",
       "      <td>I had such high hopes for this dress and reall...</td>\n",
       "      <td>3</td>\n",
       "      <td>0</td>\n",
       "      <td>0</td>\n",
       "      <td>General</td>\n",
       "      <td>Dresses</td>\n",
       "      <td>Dresses</td>\n",
       "    </tr>\n",
       "    <tr>\n",
       "      <th>3</th>\n",
       "      <td>1049</td>\n",
       "      <td>50</td>\n",
       "      <td>My favorite buy!</td>\n",
       "      <td>I love, love, love this jumpsuit. it's fun, fl...</td>\n",
       "      <td>5</td>\n",
       "      <td>1</td>\n",
       "      <td>0</td>\n",
       "      <td>General Petite</td>\n",
       "      <td>Bottoms</td>\n",
       "      <td>Pants</td>\n",
       "    </tr>\n",
       "    <tr>\n",
       "      <th>4</th>\n",
       "      <td>847</td>\n",
       "      <td>47</td>\n",
       "      <td>Flattering shirt</td>\n",
       "      <td>This shirt is very flattering to all due to th...</td>\n",
       "      <td>5</td>\n",
       "      <td>1</td>\n",
       "      <td>6</td>\n",
       "      <td>General</td>\n",
       "      <td>Tops</td>\n",
       "      <td>Blouses</td>\n",
       "    </tr>\n",
       "  </tbody>\n",
       "</table>\n",
       "</div>"
      ],
      "text/plain": [
       "   Clothing ID  Age                    Title  \\\n",
       "0          767   33                      NaN   \n",
       "1         1080   34                      NaN   \n",
       "2         1077   60  Some major design flaws   \n",
       "3         1049   50         My favorite buy!   \n",
       "4          847   47         Flattering shirt   \n",
       "\n",
       "                                         Review Text  Rating  Recommended IND  \\\n",
       "0  Absolutely wonderful - silky and sexy and comf...       4                1   \n",
       "1  Love this dress!  it's sooo pretty.  i happene...       5                1   \n",
       "2  I had such high hopes for this dress and reall...       3                0   \n",
       "3  I love, love, love this jumpsuit. it's fun, fl...       5                1   \n",
       "4  This shirt is very flattering to all due to th...       5                1   \n",
       "\n",
       "   Positive Feedback Count   Division Name Department Name Class Name  \n",
       "0                        0       Initmates        Intimate  Intimates  \n",
       "1                        4         General         Dresses    Dresses  \n",
       "2                        0         General         Dresses    Dresses  \n",
       "3                        0  General Petite         Bottoms      Pants  \n",
       "4                        6         General            Tops    Blouses  "
      ]
     },
     "execution_count": 3,
     "metadata": {},
     "output_type": "execute_result"
    }
   ],
   "source": [
    "df.head()"
   ]
  },
  {
   "cell_type": "markdown",
   "id": "08f95f6c",
   "metadata": {},
   "source": [
    "Como só nos interessa as avaliações com revisões por isso vamos excluir as ausentes:"
   ]
  },
  {
   "cell_type": "code",
   "execution_count": 4,
   "id": "76cf0aff",
   "metadata": {},
   "outputs": [
    {
     "data": {
      "text/html": [
       "<div>\n",
       "<style scoped>\n",
       "    .dataframe tbody tr th:only-of-type {\n",
       "        vertical-align: middle;\n",
       "    }\n",
       "\n",
       "    .dataframe tbody tr th {\n",
       "        vertical-align: top;\n",
       "    }\n",
       "\n",
       "    .dataframe thead th {\n",
       "        text-align: right;\n",
       "    }\n",
       "</style>\n",
       "<table border=\"1\" class=\"dataframe\">\n",
       "  <thead>\n",
       "    <tr style=\"text-align: right;\">\n",
       "      <th></th>\n",
       "      <th>Clothing ID</th>\n",
       "      <th>Age</th>\n",
       "      <th>Title</th>\n",
       "      <th>Review Text</th>\n",
       "      <th>Rating</th>\n",
       "      <th>Recommended IND</th>\n",
       "      <th>Positive Feedback Count</th>\n",
       "      <th>Division Name</th>\n",
       "      <th>Department Name</th>\n",
       "      <th>Class Name</th>\n",
       "    </tr>\n",
       "  </thead>\n",
       "  <tbody>\n",
       "    <tr>\n",
       "      <th>92</th>\n",
       "      <td>861</td>\n",
       "      <td>23</td>\n",
       "      <td>NaN</td>\n",
       "      <td>NaN</td>\n",
       "      <td>5</td>\n",
       "      <td>1</td>\n",
       "      <td>0</td>\n",
       "      <td>General Petite</td>\n",
       "      <td>Tops</td>\n",
       "      <td>Knits</td>\n",
       "    </tr>\n",
       "    <tr>\n",
       "      <th>93</th>\n",
       "      <td>1081</td>\n",
       "      <td>31</td>\n",
       "      <td>NaN</td>\n",
       "      <td>NaN</td>\n",
       "      <td>5</td>\n",
       "      <td>1</td>\n",
       "      <td>0</td>\n",
       "      <td>General</td>\n",
       "      <td>Dresses</td>\n",
       "      <td>Dresses</td>\n",
       "    </tr>\n",
       "    <tr>\n",
       "      <th>98</th>\n",
       "      <td>1133</td>\n",
       "      <td>50</td>\n",
       "      <td>NaN</td>\n",
       "      <td>NaN</td>\n",
       "      <td>5</td>\n",
       "      <td>1</td>\n",
       "      <td>0</td>\n",
       "      <td>General</td>\n",
       "      <td>Jackets</td>\n",
       "      <td>Outerwear</td>\n",
       "    </tr>\n",
       "    <tr>\n",
       "      <th>135</th>\n",
       "      <td>861</td>\n",
       "      <td>35</td>\n",
       "      <td>NaN</td>\n",
       "      <td>NaN</td>\n",
       "      <td>4</td>\n",
       "      <td>1</td>\n",
       "      <td>0</td>\n",
       "      <td>General Petite</td>\n",
       "      <td>Tops</td>\n",
       "      <td>Knits</td>\n",
       "    </tr>\n",
       "    <tr>\n",
       "      <th>142</th>\n",
       "      <td>1126</td>\n",
       "      <td>35</td>\n",
       "      <td>NaN</td>\n",
       "      <td>NaN</td>\n",
       "      <td>5</td>\n",
       "      <td>1</td>\n",
       "      <td>0</td>\n",
       "      <td>General</td>\n",
       "      <td>Jackets</td>\n",
       "      <td>Outerwear</td>\n",
       "    </tr>\n",
       "    <tr>\n",
       "      <th>...</th>\n",
       "      <td>...</td>\n",
       "      <td>...</td>\n",
       "      <td>...</td>\n",
       "      <td>...</td>\n",
       "      <td>...</td>\n",
       "      <td>...</td>\n",
       "      <td>...</td>\n",
       "      <td>...</td>\n",
       "      <td>...</td>\n",
       "      <td>...</td>\n",
       "    </tr>\n",
       "    <tr>\n",
       "      <th>23258</th>\n",
       "      <td>862</td>\n",
       "      <td>35</td>\n",
       "      <td>NaN</td>\n",
       "      <td>NaN</td>\n",
       "      <td>4</td>\n",
       "      <td>1</td>\n",
       "      <td>0</td>\n",
       "      <td>General</td>\n",
       "      <td>Tops</td>\n",
       "      <td>Knits</td>\n",
       "    </tr>\n",
       "    <tr>\n",
       "      <th>23301</th>\n",
       "      <td>862</td>\n",
       "      <td>52</td>\n",
       "      <td>NaN</td>\n",
       "      <td>NaN</td>\n",
       "      <td>5</td>\n",
       "      <td>1</td>\n",
       "      <td>0</td>\n",
       "      <td>General</td>\n",
       "      <td>Tops</td>\n",
       "      <td>Knits</td>\n",
       "    </tr>\n",
       "    <tr>\n",
       "      <th>23303</th>\n",
       "      <td>823</td>\n",
       "      <td>46</td>\n",
       "      <td>NaN</td>\n",
       "      <td>NaN</td>\n",
       "      <td>5</td>\n",
       "      <td>1</td>\n",
       "      <td>0</td>\n",
       "      <td>General</td>\n",
       "      <td>Tops</td>\n",
       "      <td>Blouses</td>\n",
       "    </tr>\n",
       "    <tr>\n",
       "      <th>23470</th>\n",
       "      <td>1104</td>\n",
       "      <td>39</td>\n",
       "      <td>NaN</td>\n",
       "      <td>NaN</td>\n",
       "      <td>5</td>\n",
       "      <td>1</td>\n",
       "      <td>0</td>\n",
       "      <td>General Petite</td>\n",
       "      <td>Dresses</td>\n",
       "      <td>Dresses</td>\n",
       "    </tr>\n",
       "    <tr>\n",
       "      <th>23480</th>\n",
       "      <td>862</td>\n",
       "      <td>35</td>\n",
       "      <td>NaN</td>\n",
       "      <td>NaN</td>\n",
       "      <td>5</td>\n",
       "      <td>1</td>\n",
       "      <td>0</td>\n",
       "      <td>General Petite</td>\n",
       "      <td>Tops</td>\n",
       "      <td>Knits</td>\n",
       "    </tr>\n",
       "  </tbody>\n",
       "</table>\n",
       "<p>845 rows × 10 columns</p>\n",
       "</div>"
      ],
      "text/plain": [
       "       Clothing ID  Age Title Review Text  Rating  Recommended IND  \\\n",
       "92             861   23   NaN         NaN       5                1   \n",
       "93            1081   31   NaN         NaN       5                1   \n",
       "98            1133   50   NaN         NaN       5                1   \n",
       "135            861   35   NaN         NaN       4                1   \n",
       "142           1126   35   NaN         NaN       5                1   \n",
       "...            ...  ...   ...         ...     ...              ...   \n",
       "23258          862   35   NaN         NaN       4                1   \n",
       "23301          862   52   NaN         NaN       5                1   \n",
       "23303          823   46   NaN         NaN       5                1   \n",
       "23470         1104   39   NaN         NaN       5                1   \n",
       "23480          862   35   NaN         NaN       5                1   \n",
       "\n",
       "       Positive Feedback Count   Division Name Department Name Class Name  \n",
       "92                           0  General Petite            Tops      Knits  \n",
       "93                           0         General         Dresses    Dresses  \n",
       "98                           0         General         Jackets  Outerwear  \n",
       "135                          0  General Petite            Tops      Knits  \n",
       "142                          0         General         Jackets  Outerwear  \n",
       "...                        ...             ...             ...        ...  \n",
       "23258                        0         General            Tops      Knits  \n",
       "23301                        0         General            Tops      Knits  \n",
       "23303                        0         General            Tops    Blouses  \n",
       "23470                        0  General Petite         Dresses    Dresses  \n",
       "23480                        0  General Petite            Tops      Knits  \n",
       "\n",
       "[845 rows x 10 columns]"
      ]
     },
     "execution_count": 4,
     "metadata": {},
     "output_type": "execute_result"
    }
   ],
   "source": [
    "df[df['Review Text'].isnull()]"
   ]
  },
  {
   "cell_type": "code",
   "execution_count": 5,
   "id": "1ce5563a",
   "metadata": {},
   "outputs": [],
   "source": [
    "df.dropna(inplace=True)"
   ]
  },
  {
   "cell_type": "markdown",
   "id": "fa8c0e6a",
   "metadata": {},
   "source": [
    "### Distribuição dos valores no Rating & Recommended IND"
   ]
  },
  {
   "cell_type": "code",
   "execution_count": 6,
   "id": "9c18e48e",
   "metadata": {},
   "outputs": [],
   "source": [
    "import matplotlib.pyplot as plt"
   ]
  },
  {
   "cell_type": "code",
   "execution_count": 7,
   "id": "fc0bf45c",
   "metadata": {},
   "outputs": [
    {
     "data": {
      "image/png": "[encoded data removed]",
      "text/plain": [
       "<Figure size 1200x700 with 2 Axes>"
      ]
     },
     "metadata": {},
     "output_type": "display_data"
    }
   ],
   "source": [
    "rating = df['Rating'].value_counts()\n",
    "recommended = df['Recommended IND'].value_counts().sort_values(ascending=False)\n",
    "\n",
    "fig, (ax1, ax2) = plt.subplots(1,2, figsize=(12,7))\n",
    "\n",
    "csfont = {'fontname':\"Consolas\", 'fontsize': 15}\n",
    "ax1.pie(rating.values, labels=rating.index, \n",
    "        autopct='%1.2f%%', startangle=150, \n",
    "        colors=['#ff9999','#d6604d','#f4a582','#ffcc99', '#fddbc7'], \n",
    "        wedgeprops = { 'linewidth' : 0.9, 'edgecolor' : 'white' }, textprops=csfont)\n",
    "\n",
    "ax2.pie(recommended.values, labels=recommended.index, \n",
    "        autopct='%1.2f%%', startangle=150, colors=['#fddbc7','#d6604d'], \n",
    "        wedgeprops = { 'linewidth' : 0.9, 'edgecolor' : 'white' }, textprops=csfont)\n",
    "\n",
    "ax1.set_title('Rating', **csfont)\n",
    "ax2.set_title('Recommended IND', **csfont)\n",
    "\n",
    "plt.tight_layout()\n",
    "plt.show()"
   ]
  },
  {
   "cell_type": "markdown",
   "id": "82bc7bb5",
   "metadata": {},
   "source": [
    "### Processamento dos textos\n",
    "\n",
    "A seguir a lista de funções utilizadas para fazer ajustes no texto como remoção de stopwords e lemmatization"
   ]
  },
  {
   "cell_type": "code",
   "execution_count": 8,
   "id": "74a876f9",
   "metadata": {},
   "outputs": [],
   "source": [
    "from nltk.corpus import stopwords\n",
    "from nltk.stem import WordNetLemmatizer"
   ]
  },
  {
   "cell_type": "code",
   "execution_count": 9,
   "id": "01956299",
   "metadata": {},
   "outputs": [],
   "source": [
    "stoplist = stopwords.words('english')\n",
    "\n",
    "# Junta todos os textos em uma única string\n",
    "def get_all_str(sentences):\n",
    "    sentence = ''\n",
    "    for words in sentences:\n",
    "        sentence += words\n",
    "    sentence = sentence.lower()\n",
    "    return sentence\n",
    "\n",
    "# Quebra o texto em uma sequência de palavras (tokens)\n",
    "def get_words(text): \n",
    "    return nltk.RegexpTokenizer(r'\\w+').tokenize(text.lower())\n",
    "\n",
    "# Remove as stopwords de uma lista de palavras\n",
    "def remove_stopword(words):        \n",
    "    return [word for word in words if word not in stoplist] \n",
    "\n",
    "# Aplica o processo de lemmatize\n",
    "def lemmatization(words):\n",
    "    lemm = WordNetLemmatizer()\n",
    "    return [lemm.lemmatize(word) for word in words]\n",
    "\n",
    "# Frequencia das palavras de um texto\n",
    "def Freq_df(cleanwordlist):\n",
    "    Freq_dist_nltk = nltk.FreqDist(cleanwordlist)\n",
    "    df_freq = pd.DataFrame.from_dict(Freq_dist_nltk, orient='index')\n",
    "    df_freq.columns = ['Frequency']\n",
    "    df_freq.index.name = 'Term'\n",
    "    df_freq = df_freq.sort_values(by=['Frequency'],ascending=False)\n",
    "    return df_freq.reset_index()\n",
    "\n",
    "# Consolidação das funções\n",
    "def preprocess(text, freq=False):\n",
    "    words = get_words(text)\n",
    "    after_removing = remove_stopword(words)\n",
    "    lemmatize = lemmatization(after_removing)\n",
    "    if freq:\n",
    "        return Freq_df(lemmatize)\n",
    "    return lemmatize"
   ]
  },
  {
   "cell_type": "markdown",
   "id": "7fe3f55d",
   "metadata": {},
   "source": [
    "Exemplo em uma avaliação:"
   ]
  },
  {
   "cell_type": "code",
   "execution_count": 10,
   "id": "655a3608",
   "metadata": {},
   "outputs": [
    {
     "data": {
      "text/plain": [
       "'I love this dress. i usually get an xs but it runs a little snug in bust so i ordered up a size. very flattering and feminine with the usual retailer flair for style.'"
      ]
     },
     "execution_count": 10,
     "metadata": {},
     "output_type": "execute_result"
    }
   ],
   "source": [
    "text = df['Review Text'].iloc[6]\n",
    "text"
   ]
  },
  {
   "cell_type": "code",
   "execution_count": 11,
   "id": "c2c6c073",
   "metadata": {},
   "outputs": [
    {
     "name": "stdout",
     "output_type": "stream",
     "text": [
      "['love', 'dress', 'usually', 'get', 'x', 'run', 'little', 'snug', 'bust', 'ordered', 'size', 'flattering', 'feminine', 'usual', 'retailer', 'flair', 'style']\n"
     ]
    }
   ],
   "source": [
    "print(preprocess(text, freq=False))"
   ]
  },
  {
   "cell_type": "code",
   "execution_count": 12,
   "id": "2da46a50",
   "metadata": {},
   "outputs": [
    {
     "name": "stdout",
     "output_type": "stream",
     "text": [
      "          Term  Frequency\n",
      "0         love          1\n",
      "1      ordered          1\n",
      "2        flair          1\n",
      "3     retailer          1\n",
      "4        usual          1\n",
      "5     feminine          1\n",
      "6   flattering          1\n",
      "7         size          1\n",
      "8         bust          1\n",
      "9        dress          1\n",
      "10        snug          1\n",
      "11      little          1\n",
      "12         run          1\n",
      "13           x          1\n",
      "14         get          1\n",
      "15     usually          1\n",
      "16       style          1\n"
     ]
    }
   ],
   "source": [
    "print(preprocess(text, freq=True))"
   ]
  },
  {
   "cell_type": "markdown",
   "id": "ec1987ca",
   "metadata": {},
   "source": [
    "As 10 palavras mais frequentes da base:"
   ]
  },
  {
   "cell_type": "code",
   "execution_count": 13,
   "id": "740e8f45",
   "metadata": {},
   "outputs": [],
   "source": [
    "import plotly.express as px"
   ]
  },
  {
   "cell_type": "code",
   "execution_count": 14,
   "id": "159bc4b9",
   "metadata": {},
   "outputs": [],
   "source": [
    "top10_frequent = preprocess(get_all_str(df['Review Text']), freq=True)[:10]"
   ]
  },
  {
   "cell_type": "code",
   "execution_count": 15,
   "id": "b5aca77b",
   "metadata": {},
   "outputs": [],
   "source": [
    "import plotly.express as px"
   ]
  },
  {
   "cell_type": "code",
   "execution_count": 16,
   "id": "c9b1d703",
   "metadata": {},
   "outputs": [
    {
     "data": {
      "text/plain": [
       "['rgb(103,0,31)',\n",
       " 'rgb(178,24,43)',\n",
       " 'rgb(214,96,77)',\n",
       " 'rgb(244,165,130)',\n",
       " 'rgb(253,219,199)',\n",
       " 'rgb(247,247,247)',\n",
       " 'rgb(209,229,240)',\n",
       " 'rgb(146,197,222)',\n",
       " 'rgb(67,147,195)',\n",
       " 'rgb(33,102,172)',\n",
       " 'rgb(5,48,97)']"
      ]
     },
     "execution_count": 16,
     "metadata": {},
     "output_type": "execute_result"
    }
   ],
   "source": [
    "px.colors.sequential.RdBu"
   ]
  },
  {
   "cell_type": "code",
   "execution_count": 17,
   "id": "aef4ebd1",
   "metadata": {},
   "outputs": [
    {
     "data": {
      "image/png": "[encoded data removed]",
      "text/plain": [
       "<Figure size 864x576 with 1 Axes>"
      ]
     },
     "metadata": {
      "needs_background": "light"
     },
     "output_type": "display_data"
    }
   ],
   "source": [
    "fig, ax = plt.subplots(figsize=(12,8))\n",
    "plt.bar(top10_frequent.Term, top10_frequent.Frequency, \n",
    "        color=['#660033', '#B2182B', '#D6604D', '#F4A582', '#FDDBC7', '#F7F7F7', '#D1E5F0', '#92C5DE', '#4393C3', '#2166AC'])\n",
    "plt.title('Top 10 termos mais frequentes (bar plot)', {'fontname':\"Consolas\", 'fontsize': 17})\n",
    "plt.tight_layout()\n",
    "plt.xlabel(\"Termo\", **csfont)\n",
    "plt.ylabel(\"Frequência\", **csfont)\n",
    "plt.yticks(**csfont)\n",
    "plt.xticks(**csfont)\n",
    "ax.set(frame_on=False)\n",
    "for i in range(len(top10_frequent.Term)):\n",
    "    plt.annotate(str(top10_frequent.Frequency[i]), \n",
    "                 xy=(top10_frequent.Term[i],top10_frequent.Frequency[i]), ha='center', va='bottom')\n",
    "\n",
    "plt.show()"
   ]
  },
  {
   "cell_type": "markdown",
   "id": "bf91516c",
   "metadata": {},
   "source": [
    "Aplicando o processo em todos os textos da base de avaliações"
   ]
  },
  {
   "cell_type": "code",
   "execution_count": 18,
   "id": "8b34cd52",
   "metadata": {},
   "outputs": [],
   "source": [
    "df['Text'] = df['Review Text'].apply(preprocess)"
   ]
  },
  {
   "cell_type": "markdown",
   "id": "9350709f",
   "metadata": {},
   "source": [
    "## Modelagem\n",
    "\n",
    "### Train-Test Split\n",
    "\n",
    "Vamos separar 30% da base para a fase de teste"
   ]
  },
  {
   "cell_type": "code",
   "execution_count": 19,
   "id": "91149dfa",
   "metadata": {},
   "outputs": [],
   "source": [
    "from sklearn.model_selection import train_test_split"
   ]
  },
  {
   "cell_type": "code",
   "execution_count": 20,
   "id": "2859c485",
   "metadata": {},
   "outputs": [],
   "source": [
    "y = df['Recommended IND']\n",
    "X = df.drop('Recommended IND',axis=1)"
   ]
  },
  {
   "cell_type": "code",
   "execution_count": 21,
   "id": "d3fd0516",
   "metadata": {},
   "outputs": [],
   "source": [
    "X_train, X_test, y_train, y_test = train_test_split(X['Text'], y, test_size=0.3, random_state = 42)    "
   ]
  },
  {
   "cell_type": "markdown",
   "id": "f37fe077",
   "metadata": {},
   "source": [
    "### LightGBM\n",
    "\n",
    "Antes de construir nosso classificador precisamos transformar os textos em uma matriz numerica. Neste exemplo, vou usar o TF_IDF.\n",
    "\n",
    "#### Tokenization, Matriz TF-IDF\n"
   ]
  },
  {
   "cell_type": "code",
   "execution_count": 22,
   "id": "1b201572",
   "metadata": {},
   "outputs": [],
   "source": [
    "import lightgbm as lgb\n",
    "from sklearn.feature_extraction.text import TfidfVectorizer"
   ]
  },
  {
   "cell_type": "code",
   "execution_count": 23,
   "id": "dd5cdcff",
   "metadata": {},
   "outputs": [],
   "source": [
    "vectorizer = TfidfVectorizer(min_df=200, use_idf=True, smooth_idf=True)"
   ]
  },
  {
   "cell_type": "code",
   "execution_count": 24,
   "id": "8d35a38c",
   "metadata": {},
   "outputs": [],
   "source": [
    "X_train_tfidf = vectorizer.fit_transform(X_train.apply(\" \".join))\n",
    "X_test_tfidf = vectorizer.transform(X_test.apply(\" \".join))"
   ]
  },
  {
   "cell_type": "code",
   "execution_count": 25,
   "id": "c8b1cbb8",
   "metadata": {},
   "outputs": [],
   "source": [
    "x_train = lgb.Dataset(X_train_tfidf,y_train)\n",
    "x_test = lgb.Dataset(X_test_tfidf,y_test)"
   ]
  },
  {
   "cell_type": "code",
   "execution_count": 26,
   "id": "5e05bc95",
   "metadata": {},
   "outputs": [],
   "source": [
    "param_lgb = {\n",
    "    'max_depth': 20,\n",
    "    'learning_rate': 0.33,\n",
    "    'max_bin': 1000,\n",
    "    'num_leaves' : 50,\n",
    "    'objective': 'binary',\n",
    "    'metric': 'auc',\n",
    "    'num_iter': 1000\n",
    "}"
   ]
  },
  {
   "cell_type": "code",
   "execution_count": 27,
   "id": "5e5f6f6b",
   "metadata": {},
   "outputs": [
    {
     "name": "stdout",
     "output_type": "stream",
     "text": [
      "[LightGBM] [Warning] Unknown parameter: num_iter\n",
      "[LightGBM] [Warning] Unknown parameter: num_iter\n",
      "[LightGBM] [Info] Number of positive: 11297, number of negative: 2466\n",
      "[LightGBM] [Warning] Auto-choosing row-wise multi-threading, the overhead of testing was 0.015929 seconds.\n",
      "You can set `force_row_wise=true` to remove the overhead.\n",
      "And if memory is not enough, you can set `force_col_wise=true`.\n",
      "[LightGBM] [Info] Total Bins 82058\n",
      "[LightGBM] [Info] Number of data points in the train set: 13763, number of used features: 363\n",
      "[LightGBM] [Warning] Unknown parameter: num_iter\n",
      "[LightGBM] [Info] [binary:BoostFromScore]: pavg=0.820824 -> initscore=1.521940\n",
      "[LightGBM] [Info] Start training from score 1.521940\n",
      "[1]\tvalid_0's auc: 0.802179\n",
      "[2]\tvalid_0's auc: 0.839115\n",
      "[3]\tvalid_0's auc: 0.848228\n",
      "[4]\tvalid_0's auc: 0.854728\n",
      "[5]\tvalid_0's auc: 0.864925\n",
      "[6]\tvalid_0's auc: 0.869022\n",
      "[7]\tvalid_0's auc: 0.872138\n",
      "[8]\tvalid_0's auc: 0.874786\n",
      "[9]\tvalid_0's auc: 0.876956\n",
      "[10]\tvalid_0's auc: 0.877747\n",
      "[11]\tvalid_0's auc: 0.879926\n",
      "[12]\tvalid_0's auc: 0.881717\n",
      "[13]\tvalid_0's auc: 0.886338\n",
      "[14]\tvalid_0's auc: 0.887143\n",
      "[15]\tvalid_0's auc: 0.886746\n",
      "[16]\tvalid_0's auc: 0.887452\n",
      "[17]\tvalid_0's auc: 0.888796\n",
      "[18]\tvalid_0's auc: 0.889634\n",
      "[19]\tvalid_0's auc: 0.890465\n",
      "[20]\tvalid_0's auc: 0.890903\n",
      "[21]\tvalid_0's auc: 0.892579\n",
      "[22]\tvalid_0's auc: 0.892866\n",
      "[23]\tvalid_0's auc: 0.892713\n",
      "[24]\tvalid_0's auc: 0.893268\n",
      "[25]\tvalid_0's auc: 0.893175\n",
      "[26]\tvalid_0's auc: 0.892811\n",
      "[27]\tvalid_0's auc: 0.893577\n",
      "[28]\tvalid_0's auc: 0.894128\n",
      "[29]\tvalid_0's auc: 0.892962\n",
      "[30]\tvalid_0's auc: 0.892859\n",
      "[31]\tvalid_0's auc: 0.893148\n",
      "[32]\tvalid_0's auc: 0.893574\n",
      "[33]\tvalid_0's auc: 0.893911\n",
      "[34]\tvalid_0's auc: 0.894096\n",
      "[35]\tvalid_0's auc: 0.894978\n",
      "[36]\tvalid_0's auc: 0.895723\n",
      "[37]\tvalid_0's auc: 0.896251\n",
      "[38]\tvalid_0's auc: 0.896331\n",
      "[39]\tvalid_0's auc: 0.895979\n",
      "[40]\tvalid_0's auc: 0.895867\n",
      "[41]\tvalid_0's auc: 0.89573\n",
      "[42]\tvalid_0's auc: 0.895718\n",
      "[43]\tvalid_0's auc: 0.895994\n",
      "[44]\tvalid_0's auc: 0.896182\n",
      "[45]\tvalid_0's auc: 0.89616\n",
      "[46]\tvalid_0's auc: 0.89571\n",
      "[47]\tvalid_0's auc: 0.89624\n",
      "[48]\tvalid_0's auc: 0.895993\n",
      "[49]\tvalid_0's auc: 0.89671\n",
      "[50]\tvalid_0's auc: 0.89613\n",
      "[51]\tvalid_0's auc: 0.896518\n",
      "[52]\tvalid_0's auc: 0.896452\n",
      "[53]\tvalid_0's auc: 0.896634\n",
      "[54]\tvalid_0's auc: 0.896425\n",
      "[55]\tvalid_0's auc: 0.89631\n",
      "[56]\tvalid_0's auc: 0.896023\n",
      "[57]\tvalid_0's auc: 0.896318\n",
      "[58]\tvalid_0's auc: 0.896095\n",
      "[59]\tvalid_0's auc: 0.896508\n",
      "[60]\tvalid_0's auc: 0.896198\n",
      "[61]\tvalid_0's auc: 0.896517\n",
      "[62]\tvalid_0's auc: 0.896471\n",
      "[63]\tvalid_0's auc: 0.896873\n",
      "[64]\tvalid_0's auc: 0.897277\n",
      "[65]\tvalid_0's auc: 0.897626\n",
      "[66]\tvalid_0's auc: 0.897591\n",
      "[67]\tvalid_0's auc: 0.897718\n",
      "[68]\tvalid_0's auc: 0.897495\n",
      "[69]\tvalid_0's auc: 0.897789\n",
      "[70]\tvalid_0's auc: 0.897935\n",
      "[71]\tvalid_0's auc: 0.898427\n",
      "[72]\tvalid_0's auc: 0.898208\n",
      "[73]\tvalid_0's auc: 0.898604\n",
      "[74]\tvalid_0's auc: 0.898747\n",
      "[75]\tvalid_0's auc: 0.898756\n",
      "[76]\tvalid_0's auc: 0.898982\n",
      "[77]\tvalid_0's auc: 0.898795\n",
      "[78]\tvalid_0's auc: 0.898993\n",
      "[79]\tvalid_0's auc: 0.898777\n",
      "[80]\tvalid_0's auc: 0.898718\n",
      "[81]\tvalid_0's auc: 0.898591\n",
      "[82]\tvalid_0's auc: 0.89873\n",
      "[83]\tvalid_0's auc: 0.89874\n",
      "[84]\tvalid_0's auc: 0.89896\n",
      "[85]\tvalid_0's auc: 0.899133\n",
      "[86]\tvalid_0's auc: 0.899317\n",
      "[87]\tvalid_0's auc: 0.899244\n",
      "[88]\tvalid_0's auc: 0.899141\n",
      "[89]\tvalid_0's auc: 0.899123\n",
      "[90]\tvalid_0's auc: 0.899255\n",
      "[91]\tvalid_0's auc: 0.898866\n",
      "[LightGBM] [Warning] No further splits with positive gain, best gain: -inf\n",
      "[92]\tvalid_0's auc: 0.898768\n",
      "[93]\tvalid_0's auc: 0.899022\n",
      "[94]\tvalid_0's auc: 0.898982\n",
      "[95]\tvalid_0's auc: 0.898842\n",
      "[96]\tvalid_0's auc: 0.898929\n",
      "[97]\tvalid_0's auc: 0.898819\n",
      "[98]\tvalid_0's auc: 0.898914\n",
      "[99]\tvalid_0's auc: 0.898518\n",
      "[100]\tvalid_0's auc: 0.898543\n"
     ]
    }
   ],
   "source": [
    "lgm_model = lgb.train(param_lgb, x_train, valid_sets=x_test)"
   ]
  },
  {
   "cell_type": "markdown",
   "id": "15b1c113",
   "metadata": {},
   "source": [
    "### LSTM\n",
    "\n",
    "#### Tokenization, Sequencing e Padding"
   ]
  },
  {
   "cell_type": "code",
   "execution_count": 28,
   "id": "f674d158",
   "metadata": {},
   "outputs": [],
   "source": [
    "from tensorflow.keras.preprocessing.text import Tokenizer\n",
    "from tensorflow.keras.preprocessing.sequence import pad_sequences"
   ]
  },
  {
   "cell_type": "markdown",
   "id": "e7b89a4d",
   "metadata": {},
   "source": [
    "Primeiro, obtemos o comprimento máximo do texto que será usado no padding"
   ]
  },
  {
   "cell_type": "code",
   "execution_count": 29,
   "id": "d60d5194",
   "metadata": {},
   "outputs": [],
   "source": [
    "max_len = max(max(X_train.apply(len).values),max(X_test.apply(len).values))"
   ]
  },
  {
   "cell_type": "code",
   "execution_count": 30,
   "id": "ed4a248d",
   "metadata": {},
   "outputs": [],
   "source": [
    "# Tokenization\n",
    "def fit_tokenizer(text, oov_token):\n",
    "    tokenizer = Tokenizer(oov_token = oov_token)\n",
    "    tokenizer.fit_on_texts(text)\n",
    "    return tokenizer\n",
    "\n",
    "# Padding\n",
    "def seq_padding(sentences, tokenizer, padding, truncating, maxlen):\n",
    "    sequences = tokenizer.texts_to_sequences(sentences)    \n",
    "    pad_trunc_sequences = pad_sequences(sequences, padding = padding, maxlen = maxlen, truncating=padding)\n",
    "    return pad_trunc_sequences"
   ]
  },
  {
   "cell_type": "markdown",
   "id": "6ab2d569",
   "metadata": {},
   "source": [
    "Novos X_train and X_test após sequenciamento e preenchimento (padding)"
   ]
  },
  {
   "cell_type": "code",
   "execution_count": 31,
   "id": "6f300eea",
   "metadata": {},
   "outputs": [],
   "source": [
    "tokenizer = fit_tokenizer(X_train, \"<OOV>\")\n",
    "\n",
    "word_index = tokenizer.word_index\n",
    "VOCAB_SIZE = len(word_index)\n",
    "\n",
    "train_X = seq_padding(X_train,tokenizer, 'post', 'post',max_len)\n",
    "test_X = seq_padding(X_test,tokenizer, 'post', 'post', max_len)"
   ]
  },
  {
   "cell_type": "code",
   "execution_count": 32,
   "id": "3e16c983",
   "metadata": {},
   "outputs": [
    {
     "data": {
      "text/plain": [
       "array([[  20,   83,    2, ...,    0,    0,    0],\n",
       "       [  33,    2,   31, ...,    0,    0,    0],\n",
       "       [ 182,  419,    8, ...,    0,    0,    0],\n",
       "       ...,\n",
       "       [  16,  165,    4, ...,    0,    0,    0],\n",
       "       [   6, 1552,  567, ...,    0,    0,    0],\n",
       "       [   6,  660,  252, ...,    0,    0,    0]])"
      ]
     },
     "execution_count": 32,
     "metadata": {},
     "output_type": "execute_result"
    }
   ],
   "source": [
    "train_X"
   ]
  },
  {
   "cell_type": "markdown",
   "id": "72331d48",
   "metadata": {},
   "source": [
    "#### GloVe Embedding\n",
    "\n",
    "GloVe é um algoritmo de aprendizado não supervisionado para obter representações vetoriais das palavras. Vamos usá-lo para obter os vetores de cada palavra"
   ]
  },
  {
   "cell_type": "code",
   "execution_count": 33,
   "id": "8eaa2e2a",
   "metadata": {},
   "outputs": [],
   "source": [
    "GLOVE_FILE = 'glove.6B.100d\\\\glove.6B.100d.txt'\n",
    "GLOVE_EMBEDDINGS = {}\n",
    "\n",
    "with open(GLOVE_FILE, encoding='utf-8') as f:\n",
    "    for line in f:\n",
    "        values = line.split()\n",
    "        word = values[0]\n",
    "        coefs = np.asarray(values[1:], dtype='float32')\n",
    "        GLOVE_EMBEDDINGS[word] = coefs"
   ]
  },
  {
   "cell_type": "markdown",
   "id": "8d481051",
   "metadata": {},
   "source": [
    "Existe alguma palavra que o GloVe não contempla?"
   ]
  },
  {
   "cell_type": "code",
   "execution_count": 34,
   "id": "865e4f04",
   "metadata": {},
   "outputs": [
    {
     "name": "stdout",
     "output_type": "stream",
     "text": [
      "Quantas palavras fora do GloVe?  1463\n",
      "Por exemplo:  ['<OOV>', 'pilcro', 'armhole', '34d', 'xsp', '0p', '36d', 'xxsp', '34dd', '32dd']\n"
     ]
    }
   ],
   "source": [
    "EMBEDDINGS_MATRIX = np.zeros((VOCAB_SIZE+1, 100))\n",
    "\n",
    "num = 0\n",
    "missed_list = []\n",
    "\n",
    "for word, i in word_index.items():\n",
    "    embedding_vector = GLOVE_EMBEDDINGS.get(word)\n",
    "    if embedding_vector is not None:\n",
    "        EMBEDDINGS_MATRIX[i] = embedding_vector\n",
    "    else:\n",
    "        num += 1\n",
    "        missed_list.append(word)\n",
    "\n",
    "print('Quantas palavras fora do GloVe? ',num)\n",
    "print('Por exemplo: ',missed_list[:10])"
   ]
  },
  {
   "cell_type": "markdown",
   "id": "cd769e11",
   "metadata": {},
   "source": [
    "#### Modelo LSTM\n",
    "\n",
    "Conforme proposto no artigo original, vamos seguir com a mesma arquitetura que contém uma LSTM Bidirecional, dropout e regularizadores (L2) para evitar o overfitting.\n",
    "\n",
    "* **Embedding**: A camada Embedding pode ser entendida como uma tabela de pesquisa que mapeia desde índices inteiros (que representam palavras específicas) até vetores densos (seus embeddings). \n",
    "* **Dropout**: A camada Dropout trabalha escolhendo aleatoriamente unidades a serem desativadas na rede. Esse processo ajuda a evitar o overfitting."
   ]
  },
  {
   "cell_type": "code",
   "execution_count": 35,
   "id": "8da2818d",
   "metadata": {},
   "outputs": [],
   "source": [
    "import tensorflow as tf\n",
    "from tensorflow import keras\n",
    "from tensorflow.keras.models import Sequential\n",
    "from tensorflow.keras.layers import Embedding, LSTM, Dense, Bidirectional, GlobalMaxPool1D, Dropout\n",
    "\n",
    "# Definição do modelo\n",
    "def LSTM_model(vocab_size, embedding_dim, maxlen, embeddings_matrix):\n",
    "    \n",
    "    model = Sequential()\n",
    "    \n",
    "    model.add(Embedding(vocab_size+1,embedding_dim,input_length = maxlen, weights = [embeddings_matrix],trainable=False))\n",
    "    model.add(Bidirectional(LSTM(64,kernel_regularizer=keras.regularizers.l2(0.001))))\n",
    "    model.add(Dropout(0.3))\n",
    "    \n",
    "    tf.keras.layers.GlobalAveragePooling1D()\n",
    "\n",
    "    model.add(Dense(6, activation = 'relu', kernel_regularizer=keras.regularizers.l2(0.001)))\n",
    "    model.add(Dropout(0.3))\n",
    "    model.add(Dense(1, activation = 'sigmoid'))\n",
    "    \n",
    "    model.compile(loss = 'binary_crossentropy',\n",
    "                  optimizer = tf.keras.optimizers.Adam(learning_rate=0.0001),\n",
    "                  metrics = ['AUC']) \n",
    "    return model"
   ]
  },
  {
   "cell_type": "code",
   "execution_count": 36,
   "id": "1a013e46",
   "metadata": {
    "scrolled": true
   },
   "outputs": [
    {
     "name": "stdout",
     "output_type": "stream",
     "text": [
      "Epoch 1/60\n",
      "108/108 [==============================] - 11s 81ms/step - loss: 0.8331 - auc: 0.5091 - val_loss: 0.7334 - val_auc: 0.5295\n",
      "Epoch 2/60\n",
      "108/108 [==============================] - 7s 69ms/step - loss: 0.7183 - auc: 0.5270 - val_loss: 0.6840 - val_auc: 0.6097\n",
      "Epoch 3/60\n",
      "108/108 [==============================] - 8s 77ms/step - loss: 0.6506 - auc: 0.6366 - val_loss: 0.5961 - val_auc: 0.7814\n",
      "Epoch 4/60\n",
      "108/108 [==============================] - 8s 73ms/step - loss: 0.5839 - auc: 0.7461 - val_loss: 0.5437 - val_auc: 0.8245\n",
      "Epoch 5/60\n",
      "108/108 [==============================] - 8s 73ms/step - loss: 0.5369 - auc: 0.7976 - val_loss: 0.5082 - val_auc: 0.8446\n",
      "Epoch 6/60\n",
      "108/108 [==============================] - 8s 72ms/step - loss: 0.5119 - auc: 0.8136 - val_loss: 0.4860 - val_auc: 0.8531\n",
      "Epoch 7/60\n",
      "108/108 [==============================] - 8s 77ms/step - loss: 0.4923 - auc: 0.8237 - val_loss: 0.4678 - val_auc: 0.8599\n",
      "Epoch 8/60\n",
      "108/108 [==============================] - 9s 79ms/step - loss: 0.4764 - auc: 0.8312 - val_loss: 0.4524 - val_auc: 0.8655\n",
      "Epoch 9/60\n",
      "108/108 [==============================] - 8s 74ms/step - loss: 0.4564 - auc: 0.8451 - val_loss: 0.4411 - val_auc: 0.8692\n",
      "Epoch 10/60\n",
      "108/108 [==============================] - 8s 76ms/step - loss: 0.4484 - auc: 0.8469 - val_loss: 0.4306 - val_auc: 0.8719\n",
      "Epoch 11/60\n",
      "108/108 [==============================] - 8s 73ms/step - loss: 0.4378 - auc: 0.8522 - val_loss: 0.4227 - val_auc: 0.8750\n",
      "Epoch 12/60\n",
      "108/108 [==============================] - 8s 72ms/step - loss: 0.4274 - auc: 0.8579 - val_loss: 0.4213 - val_auc: 0.8773\n",
      "Epoch 13/60\n",
      "108/108 [==============================] - 8s 74ms/step - loss: 0.4237 - auc: 0.8574 - val_loss: 0.4098 - val_auc: 0.8805\n",
      "Epoch 14/60\n",
      "108/108 [==============================] - 8s 72ms/step - loss: 0.4131 - auc: 0.8643 - val_loss: 0.4021 - val_auc: 0.8824\n",
      "Epoch 15/60\n",
      "108/108 [==============================] - 8s 75ms/step - loss: 0.4074 - auc: 0.8677 - val_loss: 0.3969 - val_auc: 0.8857\n",
      "Epoch 16/60\n",
      "108/108 [==============================] - 8s 71ms/step - loss: 0.4026 - auc: 0.8702 - val_loss: 0.3965 - val_auc: 0.8876\n",
      "Epoch 17/60\n",
      "108/108 [==============================] - 8s 70ms/step - loss: 0.3966 - auc: 0.8728 - val_loss: 0.3968 - val_auc: 0.8881\n",
      "Epoch 18/60\n",
      "108/108 [==============================] - 7s 69ms/step - loss: 0.3915 - auc: 0.8765 - val_loss: 0.3864 - val_auc: 0.8908\n",
      "Epoch 19/60\n",
      "108/108 [==============================] - 7s 69ms/step - loss: 0.3870 - auc: 0.8792 - val_loss: 0.3803 - val_auc: 0.8926\n",
      "Epoch 20/60\n",
      "108/108 [==============================] - 7s 69ms/step - loss: 0.3812 - auc: 0.8829 - val_loss: 0.3754 - val_auc: 0.8949\n",
      "Epoch 21/60\n",
      "108/108 [==============================] - 7s 69ms/step - loss: 0.3773 - auc: 0.8858 - val_loss: 0.3753 - val_auc: 0.8942\n",
      "Epoch 22/60\n",
      "108/108 [==============================] - 7s 69ms/step - loss: 0.3694 - auc: 0.8910 - val_loss: 0.3721 - val_auc: 0.8958\n",
      "Epoch 23/60\n",
      "108/108 [==============================] - 8s 71ms/step - loss: 0.3723 - auc: 0.8876 - val_loss: 0.3699 - val_auc: 0.8984\n",
      "Epoch 24/60\n",
      "108/108 [==============================] - 7s 69ms/step - loss: 0.3610 - auc: 0.8970 - val_loss: 0.3702 - val_auc: 0.8971\n",
      "Epoch 25/60\n",
      "108/108 [==============================] - 8s 70ms/step - loss: 0.3615 - auc: 0.8954 - val_loss: 0.3673 - val_auc: 0.8993\n",
      "Epoch 26/60\n",
      "108/108 [==============================] - 8s 70ms/step - loss: 0.3604 - auc: 0.8958 - val_loss: 0.3668 - val_auc: 0.9005\n",
      "Epoch 27/60\n",
      "108/108 [==============================] - 8s 70ms/step - loss: 0.3524 - auc: 0.9013 - val_loss: 0.3673 - val_auc: 0.8999\n",
      "Epoch 28/60\n",
      "108/108 [==============================] - 8s 70ms/step - loss: 0.3497 - auc: 0.9026 - val_loss: 0.3612 - val_auc: 0.9042\n",
      "Epoch 29/60\n",
      "108/108 [==============================] - 8s 71ms/step - loss: 0.3493 - auc: 0.9036 - val_loss: 0.3577 - val_auc: 0.9037\n",
      "Epoch 30/60\n",
      "108/108 [==============================] - 8s 70ms/step - loss: 0.3485 - auc: 0.9034 - val_loss: 0.3555 - val_auc: 0.9044\n",
      "Epoch 31/60\n",
      "108/108 [==============================] - 8s 72ms/step - loss: 0.3420 - auc: 0.9082 - val_loss: 0.3710 - val_auc: 0.9041\n",
      "Epoch 32/60\n",
      "108/108 [==============================] - 8s 71ms/step - loss: 0.3427 - auc: 0.9066 - val_loss: 0.3537 - val_auc: 0.9048\n",
      "Epoch 33/60\n",
      "108/108 [==============================] - 8s 73ms/step - loss: 0.3371 - auc: 0.9110 - val_loss: 0.3568 - val_auc: 0.9057\n",
      "Epoch 34/60\n",
      "108/108 [==============================] - 8s 72ms/step - loss: 0.3338 - auc: 0.9129 - val_loss: 0.3536 - val_auc: 0.9059\n",
      "Epoch 35/60\n",
      "108/108 [==============================] - 8s 72ms/step - loss: 0.3311 - auc: 0.9144 - val_loss: 0.3528 - val_auc: 0.9077\n",
      "Epoch 36/60\n",
      "108/108 [==============================] - 8s 71ms/step - loss: 0.3284 - auc: 0.9169 - val_loss: 0.3569 - val_auc: 0.9061\n",
      "Epoch 37/60\n",
      "108/108 [==============================] - 8s 71ms/step - loss: 0.3252 - auc: 0.9185 - val_loss: 0.3502 - val_auc: 0.9079\n",
      "Epoch 38/60\n",
      "108/108 [==============================] - 8s 71ms/step - loss: 0.3289 - auc: 0.9154 - val_loss: 0.3502 - val_auc: 0.9077\n",
      "Epoch 39/60\n",
      "108/108 [==============================] - 8s 73ms/step - loss: 0.3229 - auc: 0.9202 - val_loss: 0.3988 - val_auc: 0.9008\n",
      "Epoch 40/60\n",
      "108/108 [==============================] - 8s 72ms/step - loss: 0.3237 - auc: 0.9189 - val_loss: 0.3653 - val_auc: 0.9043\n",
      "Epoch 41/60\n",
      "108/108 [==============================] - 8s 72ms/step - loss: 0.3154 - auc: 0.9237 - val_loss: 0.3538 - val_auc: 0.9072\n",
      "Epoch 42/60\n",
      "108/108 [==============================] - 8s 72ms/step - loss: 0.3178 - auc: 0.9224 - val_loss: 0.3541 - val_auc: 0.9082\n",
      "Epoch 43/60\n",
      "108/108 [==============================] - 8s 72ms/step - loss: 0.3150 - auc: 0.9238 - val_loss: 0.3517 - val_auc: 0.9092\n",
      "Epoch 44/60\n",
      "108/108 [==============================] - 8s 73ms/step - loss: 0.3114 - auc: 0.9259 - val_loss: 0.3547 - val_auc: 0.9066\n",
      "Epoch 45/60\n",
      "108/108 [==============================] - 8s 74ms/step - loss: 0.3109 - auc: 0.9271 - val_loss: 0.3479 - val_auc: 0.9085\n",
      "Epoch 46/60\n",
      "108/108 [==============================] - 8s 73ms/step - loss: 0.3089 - auc: 0.9277 - val_loss: 0.3479 - val_auc: 0.9085\n",
      "Epoch 47/60\n",
      "108/108 [==============================] - 8s 72ms/step - loss: 0.3052 - auc: 0.9297 - val_loss: 0.3491 - val_auc: 0.9079\n",
      "Epoch 48/60\n",
      "108/108 [==============================] - 8s 71ms/step - loss: 0.2992 - auc: 0.9334 - val_loss: 0.3602 - val_auc: 0.9059\n",
      "Epoch 49/60\n",
      "108/108 [==============================] - 8s 72ms/step - loss: 0.3018 - auc: 0.9317 - val_loss: 0.3519 - val_auc: 0.9067\n",
      "Epoch 50/60\n",
      "108/108 [==============================] - 8s 72ms/step - loss: 0.2991 - auc: 0.9330 - val_loss: 0.3487 - val_auc: 0.9076\n",
      "Epoch 51/60\n",
      "108/108 [==============================] - 8s 72ms/step - loss: 0.3022 - auc: 0.9313 - val_loss: 0.3516 - val_auc: 0.9074\n",
      "Epoch 52/60\n",
      "108/108 [==============================] - 8s 73ms/step - loss: 0.2928 - auc: 0.9367 - val_loss: 0.3546 - val_auc: 0.9072\n",
      "Epoch 53/60\n",
      "108/108 [==============================] - 8s 72ms/step - loss: 0.2987 - auc: 0.9335 - val_loss: 0.3511 - val_auc: 0.9085\n",
      "Epoch 54/60\n",
      "108/108 [==============================] - 8s 75ms/step - loss: 0.2928 - auc: 0.9367 - val_loss: 0.3536 - val_auc: 0.9062\n",
      "Epoch 55/60\n",
      "108/108 [==============================] - 8s 73ms/step - loss: 0.2855 - auc: 0.9407 - val_loss: 0.3560 - val_auc: 0.9078\n",
      "Epoch 56/60\n",
      "108/108 [==============================] - 8s 73ms/step - loss: 0.2927 - auc: 0.9367 - val_loss: 0.3653 - val_auc: 0.9037\n",
      "Epoch 57/60\n",
      "108/108 [==============================] - 8s 71ms/step - loss: 0.2888 - auc: 0.9384 - val_loss: 0.3504 - val_auc: 0.9081\n",
      "Epoch 58/60\n",
      "108/108 [==============================] - 8s 72ms/step - loss: 0.2855 - auc: 0.9398 - val_loss: 0.3537 - val_auc: 0.9069\n",
      "Epoch 59/60\n",
      "108/108 [==============================] - 8s 73ms/step - loss: 0.2904 - auc: 0.9377 - val_loss: 0.3589 - val_auc: 0.9047\n",
      "Epoch 60/60\n",
      "108/108 [==============================] - 8s 73ms/step - loss: 0.2818 - auc: 0.9431 - val_loss: 0.3846 - val_auc: 0.8983\n"
     ]
    }
   ],
   "source": [
    "model = LSTM_model(VOCAB_SIZE, 100, max_len, EMBEDDINGS_MATRIX)\n",
    "\n",
    "history = model.fit(train_X, y_train, epochs = 60, batch_size = 128, validation_data=(test_X, y_test))"
   ]
  },
  {
   "cell_type": "markdown",
   "id": "e576ecb7",
   "metadata": {},
   "source": [
    "### Avaliação dos modelos\n",
    "\n",
    "#### LSTM"
   ]
  },
  {
   "cell_type": "code",
   "execution_count": 37,
   "id": "76cad810",
   "metadata": {},
   "outputs": [],
   "source": [
    "# data visualization\n",
    "import seaborn as sns\n",
    "import matplotlib as mpl\n",
    "import matplotlib.pyplot as plt\n",
    "import plotly.express as px\n",
    "import plotly.figure_factory as ff\n",
    "import plotly.graph_objects as go\n",
    "from plotly.subplots import make_subplots\n",
    "from plotly.offline import plot\n",
    "from wordcloud import WordCloud\n",
    "from PIL import Image"
   ]
  },
  {
   "cell_type": "code",
   "execution_count": 38,
   "id": "fe40f77e",
   "metadata": {},
   "outputs": [
    {
     "data": {
      "image/png": "[encoded data removed]",
      "text/plain": [
       "<Figure size 864x360 with 2 Axes>"
      ]
     },
     "metadata": {
      "needs_background": "light"
     },
     "output_type": "display_data"
    }
   ],
   "source": [
    "epoch = list(range(1,61))\n",
    "\n",
    "color = ['#67001f','#b2182b','#4393c3','#2166ac']\n",
    "fig, (ax1, ax2) = plt.subplots(1, 2, figsize=(12,5))\n",
    "\n",
    "ax1.plot(epoch, history.history['auc'], color=color[0])\n",
    "ax1.plot(epoch, history.history['val_auc'], color=color[3])\n",
    "ax1.set_title('AUC & val_AUC Score')\n",
    "ax1.set_ylabel(\"AUC\")\n",
    "ax1.set_xlabel(\"epoch\")\n",
    "\n",
    "ax2.plot(epoch, history.history['loss'], color=color[1])\n",
    "ax2.plot(epoch, history.history['val_loss'], color=color[2])\n",
    "ax2.set_title('Loss & Val_Loss Score')\n",
    "ax2.set_ylabel(\"Loss\")\n",
    "ax2.set_xlabel(\"epoch\")\n",
    "\n",
    "fig.suptitle('LSTM: AUC & LOSS', fontsize=15)\n",
    "plt.tight_layout()\n",
    "plt.show()"
   ]
  },
  {
   "cell_type": "markdown",
   "id": "dd4544bc",
   "metadata": {},
   "source": [
    "### Comparação dos scores: LightGBM e LSTM\n",
    "\n",
    "Acurácia, Precisão, Recall, F1"
   ]
  },
  {
   "cell_type": "code",
   "execution_count": 39,
   "id": "81f9b4e6",
   "metadata": {},
   "outputs": [],
   "source": [
    "from sklearn.metrics import accuracy_score, precision_score, recall_score, f1_score, roc_auc_score"
   ]
  },
  {
   "cell_type": "code",
   "execution_count": 40,
   "id": "ea06a819",
   "metadata": {},
   "outputs": [],
   "source": [
    "def scores(model, X, y):\n",
    "    \n",
    "    predict_proba = model.predict(X, verbose=0)\n",
    "    prediction_label = (model.predict(X) >= 0.5).astype(\"int32\")  \n",
    "\n",
    "    accuracy = accuracy_score(y, prediction_label)\n",
    "    precision = precision_score(y, prediction_label)\n",
    "    recall = recall_score(y, prediction_label)\n",
    "    f1 = f1_score(y, prediction_label)\n",
    "\n",
    "    return [accuracy, precision, recall, f1]"
   ]
  },
  {
   "cell_type": "code",
   "execution_count": 41,
   "id": "fb5cc6d9",
   "metadata": {},
   "outputs": [],
   "source": [
    "lgbm_score_list = scores(lgm_model, X_test_tfidf, y_test)"
   ]
  },
  {
   "cell_type": "code",
   "execution_count": 42,
   "id": "32931cea",
   "metadata": {},
   "outputs": [
    {
     "name": "stdout",
     "output_type": "stream",
     "text": [
      "185/185 [==============================] - 1s 7ms/step\n"
     ]
    }
   ],
   "source": [
    "lstm_score_list = scores(model, test_X, y_test)"
   ]
  },
  {
   "cell_type": "code",
   "execution_count": 45,
   "id": "88727ac0",
   "metadata": {},
   "outputs": [
    {
     "data": {
      "image/png": "[encoded data removed]",
      "text/plain": [
       "<Figure size 864x504 with 1 Axes>"
      ]
     },
     "metadata": {
      "needs_background": "light"
     },
     "output_type": "display_data"
    }
   ],
   "source": [
    "score_name = ['Accuracy', 'Precision', 'Recall', 'F1']\n",
    "\n",
    "fig, ax = plt.subplots(figsize=(12,7))\n",
    "\n",
    "x = np.arange(len(score_name))\n",
    "width = 0.395\n",
    "\n",
    "plt.bar(x-0.2, lgbm_score_list, width, label='LightGBM', color='#D6604D')\n",
    "plt.bar(x+0.2, lstm_score_list, width, label='LSTM', color='#92C5DE')\n",
    "\n",
    "plt.title('Comparação entre o modelo LightGBM e LSTM', {'fontname':\"Consolas\", 'fontsize': 17})\n",
    "plt.ylabel(\"score\", **csfont)\n",
    "plt.xticks(x, score_name, **csfont)\n",
    "\n",
    "ax.spines['top'].set_visible(False)\n",
    "ax.spines['right'].set_visible(False)\n",
    "ax.spines['left'].set_visible(False)\n",
    "\n",
    "for bar in ax.patches:\n",
    "    bar_value = bar.get_height()\n",
    "    text = f'{round(bar_value,2):,}'\n",
    "    text_x = bar.get_x() + bar.get_width() / 2\n",
    "    text_y = bar.get_y() + bar_value\n",
    "    ax.text(text_x, text_y, text, ha='center', va='bottom', size=12)\n",
    "\n",
    "ax.legend(loc='center left', bbox_to_anchor=(1, 0.5))\n",
    "fig.tight_layout()\n",
    "plt.show()"
   ]
  },
  {
   "cell_type": "code",
   "execution_count": null,
   "id": "2e044bb6",
   "metadata": {},
   "outputs": [],
   "source": []
  }
 ],
 "metadata": {
  "kernelspec": {
   "display_name": "Python 3 (ipykernel)",
   "language": "python",
   "name": "python3"
  },
  "language_info": {
   "codemirror_mode": {
    "name": "ipython",
    "version": 3
   },
   "file_extension": ".py",
   "mimetype": "text/x-python",
   "name": "python",
   "nbconvert_exporter": "python",
   "pygments_lexer": "ipython3",
   "version": "3.9.13"
  }
 },
 "nbformat": 4,
 "nbformat_minor": 5
}
